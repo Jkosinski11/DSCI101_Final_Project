{
 "cells": [
  {
   "cell_type": "markdown",
   "metadata": {},
   "source": [
    "# Linear Regression relating Market Value with Profits, Assets, and SalesSS"
   ]
  },
  {
   "cell_type": "code",
   "execution_count": 130,
   "metadata": {},
   "outputs": [],
   "source": [
    "import numpy as np\n",
    "import pandas as pd\n",
    "import statsmodels.api as sm\n",
    "import matplotlib.pyplot as plt"
   ]
  },
  {
   "cell_type": "code",
   "execution_count": 131,
   "metadata": {},
   "outputs": [
    {
     "data": {
      "text/plain": [
       "Index(['Sales', 'Profit', 'Assets', 'Market_Value'], dtype='object')"
      ]
     },
     "execution_count": 131,
     "metadata": {},
     "output_type": "execute_result"
    }
   ],
   "source": [
    "df = pd.read_csv('./company-data.csv')\n",
    "df.columns"
   ]
  },
  {
   "cell_type": "markdown",
   "metadata": {},
   "source": [
    "# Correlation and Regression comparing Sales and Market Value"
   ]
  },
  {
   "cell_type": "code",
   "execution_count": 132,
   "metadata": {},
   "outputs": [
    {
     "name": "stdout",
     "output_type": "stream",
     "text": [
      "0.5179374231237686\n"
     ]
    }
   ],
   "source": [
    "cor_val_temp_StoMV = np.corrcoef(df.Sales,df.Market_Value)\n",
    "cor_val_StoMV = cor_val_temp_StoMV[0,1]\n",
    "print(cor_val_StoMV)"
   ]
  },
  {
   "cell_type": "code",
   "execution_count": 133,
   "metadata": {},
   "outputs": [],
   "source": [
    "# extract X and Y for regression model\n",
    "Y = df.Sales # dependent variable\n",
    "X = df.Market_Value # independent variable\n",
    "\n",
    "# make sure that constant term is included in linear regression model\n",
    "X = sm.add_constant(X)"
   ]
  },
  {
   "cell_type": "code",
   "execution_count": 134,
   "metadata": {},
   "outputs": [],
   "source": [
    "slr_model = sm.OLS(Y,X).fit()"
   ]
  },
  {
   "cell_type": "code",
   "execution_count": 135,
   "metadata": {},
   "outputs": [
    {
     "name": "stdout",
     "output_type": "stream",
     "text": [
      "18.696273548914064\n"
     ]
    }
   ],
   "source": [
    "sigma_Y = np.sqrt(np.var(Y))\n",
    "sigma_X = np.sqrt(np.var(X.Market_Value))\n",
    "\n",
    "b = cor_val_StoMV * (sigma_Y/sigma_X)\n",
    "a = np.mean(Y) - (b*np.mean(X.Market_Value))\n",
    "print(a)"
   ]
  },
  {
   "cell_type": "code",
   "execution_count": null,
   "metadata": {},
   "outputs": [],
   "source": [
    "# Pick 100 points equally spaced from min to max for the independent variable\n",
    "X_set = np.linspace(X.Market_Value.min(), X.Market_Value.max(), 100)\n",
    "\n",
    "# include the constant term in the linear regression model\n",
    "X_prime = sm.add_constant(X_set)\n"
   ]
  },
  {
   "cell_type": "code",
   "execution_count": 163,
   "metadata": {},
   "outputs": [],
   "source": [
    "\n",
    "\n",
    "Y_hat = slr_model.predict(X_prime)"
   ]
  },
  {
   "cell_type": "code",
   "execution_count": 164,
   "metadata": {},
   "outputs": [
    {
     "data": {
      "text/plain": [
       "[<matplotlib.lines.Line2D at 0x22826aa3f80>]"
      ]
     },
     "execution_count": 164,
     "metadata": {},
     "output_type": "execute_result"
    },
    {
     "data": {
      "image/png": "[encoded data removed]",
      "text/plain": [
       "<Figure size 640x480 with 1 Axes>"
      ]
     },
     "metadata": {},
     "output_type": "display_data"
    }
   ],
   "source": [
    "# plot the original data (scatter plot)\n",
    "plt.scatter(X.Market_Value,Y)\n",
    "\n",
    "# add labels to the plots\n",
    "plt.xlabel(\"Sales\")\n",
    "plt.ylabel(\"Market Value\")\n",
    "\n",
    "# add the regression line\n",
    "plt.plot(X_prime[:,1], Y_hat, 'red' )"
   ]
  },
  {
   "cell_type": "code",
   "execution_count": 165,
   "metadata": {},
   "outputs": [],
   "source": [
    "# get the fitted values i.e. the predicted Y for the values of X that the \n",
    "# Simple Linear Regression model was built with\n",
    "Y_fitted = slr_model.predict(X)"
   ]
  },
  {
   "cell_type": "code",
   "execution_count": 166,
   "metadata": {},
   "outputs": [
    {
     "data": {
      "text/plain": [
       "np.float64(6.545089308111027e-14)"
      ]
     },
     "execution_count": 166,
     "metadata": {},
     "output_type": "execute_result"
    }
   ],
   "source": [
    "# get the mean of the residuals (should be close to 0)\n",
    "np.mean(Y-Y_fitted)"
   ]
  },
  {
   "cell_type": "code",
   "execution_count": 167,
   "metadata": {},
   "outputs": [
    {
     "data": {
      "text/plain": [
       "np.float64(147733.47572507482)"
      ]
     },
     "execution_count": 167,
     "metadata": {},
     "output_type": "execute_result"
    }
   ],
   "source": [
    "# get the mean square error over the fitted values\n",
    "np.mean((Y-Y_fitted)**2)"
   ]
  },
  {
   "cell_type": "markdown",
   "metadata": {},
   "source": [
    "# Correlation and regression relating Profit and Market Value"
   ]
  },
  {
   "cell_type": "code",
   "execution_count": 168,
   "metadata": {},
   "outputs": [
    {
     "name": "stdout",
     "output_type": "stream",
     "text": [
      "0.8082029910230779\n"
     ]
    }
   ],
   "source": [
    "cor_val_temp_PtoMV = np.corrcoef(df.Profit,df.Market_Value)\n",
    "cor_val_PtoMV = cor_val_temp_PtoMV[0,1]\n",
    "print(cor_val_PtoMV)"
   ]
  },
  {
   "cell_type": "code",
   "execution_count": 188,
   "metadata": {},
   "outputs": [],
   "source": [
    "# extract X and Y for regression model\n",
    "Y = df.Profit # dependent variable\n",
    "\n",
    "# make sure that constant term is included in linear regression model\n",
    "X = sm.add_constant(X)"
   ]
  },
  {
   "cell_type": "code",
   "execution_count": 170,
   "metadata": {},
   "outputs": [],
   "source": [
    "slr_model = sm.OLS(Y,X).fit()"
   ]
  },
  {
   "cell_type": "code",
   "execution_count": 171,
   "metadata": {},
   "outputs": [
    {
     "name": "stdout",
     "output_type": "stream",
     "text": [
      "1.3008520687464187\n"
     ]
    }
   ],
   "source": [
    "sigma_Y = np.sqrt(np.var(Y))\n",
    "sigma_X = np.sqrt(np.var(X.Market_Value))\n",
    "\n",
    "b = cor_val_StoMV * (sigma_Y/sigma_X)\n",
    "a = np.mean(Y) - (b*np.mean(X.Market_Value))\n",
    "print(a)"
   ]
  },
  {
   "cell_type": "code",
   "execution_count": 172,
   "metadata": {},
   "outputs": [],
   "source": [
    "# Pick 100 points equally spaced from min to max for the independent variable\n",
    "X_set = np.linspace(X.Market_Value.min(), X.Market_Value.max(), 100)\n",
    "\n",
    "# include the constant term in the linear regression model\n",
    "X_prime = sm.add_constant(X_set)\n"
   ]
  },
  {
   "cell_type": "code",
   "execution_count": 173,
   "metadata": {},
   "outputs": [],
   "source": [
    "Y_hat = slr_model.predict(X_prime)"
   ]
  },
  {
   "cell_type": "code",
   "execution_count": 174,
   "metadata": {},
   "outputs": [
    {
     "data": {
      "text/plain": [
       "[<matplotlib.lines.Line2D at 0x22826b058e0>]"
      ]
     },
     "execution_count": 174,
     "metadata": {},
     "output_type": "execute_result"
    },
    {
     "data": {
      "image/png": "[encoded data removed]",
      "text/plain": [
       "<Figure size 640x480 with 1 Axes>"
      ]
     },
     "metadata": {},
     "output_type": "display_data"
    }
   ],
   "source": [
    "# plot the original data (scatter plot)\n",
    "plt.scatter(X.Market_Value,Y)\n",
    "\n",
    "# add labels to the plots\n",
    "plt.xlabel(\"Sales\")\n",
    "plt.ylabel(\"Market Value\")\n",
    "\n",
    "# add the regression line\n",
    "plt.plot(X_prime[:,1], Y_hat, 'red' )"
   ]
  },
  {
   "cell_type": "code",
   "execution_count": 175,
   "metadata": {},
   "outputs": [],
   "source": [
    "# get the fitted values i.e. the predicted Y for the values of X that the \n",
    "# Simple Linear Regression model was built with\n",
    "Y_fitted = slr_model.predict(X)"
   ]
  },
  {
   "cell_type": "code",
   "execution_count": 176,
   "metadata": {},
   "outputs": [
    {
     "data": {
      "text/plain": [
       "np.float64(-4.204310840279653e-15)"
      ]
     },
     "execution_count": 176,
     "metadata": {},
     "output_type": "execute_result"
    }
   ],
   "source": [
    "# get the mean of the residuals (should be close to 0)\n",
    "np.mean(Y-Y_fitted)"
   ]
  },
  {
   "cell_type": "code",
   "execution_count": 177,
   "metadata": {},
   "outputs": [
    {
     "data": {
      "text/plain": [
       "np.float64(13.24561062379344)"
      ]
     },
     "execution_count": 177,
     "metadata": {},
     "output_type": "execute_result"
    }
   ],
   "source": [
    "# get the mean square error over the fitted values\n",
    "np.mean((Y-Y_fitted)**2)"
   ]
  },
  {
   "cell_type": "markdown",
   "metadata": {},
   "source": [
    "# Correlation and regression relating Assets and Market Value"
   ]
  },
  {
   "cell_type": "code",
   "execution_count": 178,
   "metadata": {},
   "outputs": [
    {
     "name": "stdout",
     "output_type": "stream",
     "text": [
      "0.14064702984727734\n"
     ]
    }
   ],
   "source": [
    "cor_val_temp_AtoMV = np.corrcoef(df.Assets,df.Market_Value)\n",
    "cor_val_AtoMV = cor_val_temp_AtoMV[0,1]\n",
    "print(cor_val_AtoMV)"
   ]
  },
  {
   "cell_type": "markdown",
   "metadata": {},
   "source": []
  },
  {
   "cell_type": "code",
   "execution_count": 179,
   "metadata": {},
   "outputs": [],
   "source": [
    "# extract X and Y for regression model\n",
    "Y = df.Assets # dependent variable\n",
    "\n",
    "# make sure that constant term is included in linear regression model\n",
    "X = sm.add_constant(X)"
   ]
  },
  {
   "cell_type": "code",
   "execution_count": 180,
   "metadata": {},
   "outputs": [],
   "source": [
    "slr_model = sm.OLS(Y,X).fit()"
   ]
  },
  {
   "cell_type": "code",
   "execution_count": 181,
   "metadata": {},
   "outputs": [
    {
     "name": "stdout",
     "output_type": "stream",
     "text": [
      "59.552471068458715\n"
     ]
    }
   ],
   "source": [
    "sigma_Y = np.sqrt(np.var(Y))\n",
    "sigma_X = np.sqrt(np.var(X.Market_Value))\n",
    "\n",
    "b = cor_val_StoMV * (sigma_Y/sigma_X)\n",
    "a = np.mean(Y) - (b*np.mean(X.Market_Value))\n",
    "print(a)"
   ]
  },
  {
   "cell_type": "code",
   "execution_count": 182,
   "metadata": {},
   "outputs": [],
   "source": [
    "# Pick 100 points equally spaced from min to max for the independent variable\n",
    "X_set = np.linspace(X.Market_Value.min(), X.Market_Value.max(), 100)\n",
    "\n",
    "# include the constant term in the linear regression model\n",
    "X_prime = sm.add_constant(X_set)"
   ]
  },
  {
   "cell_type": "code",
   "execution_count": 183,
   "metadata": {},
   "outputs": [],
   "source": [
    "Y_hat = slr_model.predict(X_prime)"
   ]
  },
  {
   "cell_type": "code",
   "execution_count": 184,
   "metadata": {},
   "outputs": [
    {
     "data": {
      "text/plain": [
       "[<matplotlib.lines.Line2D at 0x22826b53d10>]"
      ]
     },
     "execution_count": 184,
     "metadata": {},
     "output_type": "execute_result"
    },
    {
     "data": {
      "image/png": "[encoded data removed]",
      "text/plain": [
       "<Figure size 640x480 with 1 Axes>"
      ]
     },
     "metadata": {},
     "output_type": "display_data"
    }
   ],
   "source": [
    "# plot the original data (scatter plot)\n",
    "plt.scatter(X.Market_Value,Y)\n",
    "\n",
    "# add labels to the plots\n",
    "plt.xlabel(\"Sales\")\n",
    "plt.ylabel(\"Market Value\")\n",
    "\n",
    "# add the regression line\n",
    "plt.plot(X_prime[:,1], Y_hat, 'red' )"
   ]
  },
  {
   "cell_type": "code",
   "execution_count": 185,
   "metadata": {},
   "outputs": [],
   "source": [
    "# get the fitted values i.e. the predicted Y for the values of X that the \n",
    "# Simple Linear Regression model was built with\n",
    "Y_fitted = slr_model.predict(X)"
   ]
  },
  {
   "cell_type": "code",
   "execution_count": 186,
   "metadata": {},
   "outputs": [
    {
     "data": {
      "text/plain": [
       "np.float64(6.545089308111027e-14)"
      ]
     },
     "execution_count": 186,
     "metadata": {},
     "output_type": "execute_result"
    }
   ],
   "source": [
    "# get the mean of the residuals (should be close to 0)\n",
    "np.mean(Y-Y_fitted)"
   ]
  },
  {
   "cell_type": "code",
   "execution_count": 187,
   "metadata": {},
   "outputs": [
    {
     "data": {
      "text/plain": [
       "np.float64(147733.47572507482)"
      ]
     },
     "execution_count": 187,
     "metadata": {},
     "output_type": "execute_result"
    }
   ],
   "source": [
    "# get the mean square error over the fitted values\n",
    "np.mean((Y-Y_fitted)**2)"
   ]
  }
 ],
 "metadata": {
  "kernelspec": {
   "display_name": "Python 3",
   "language": "python",
   "name": "python3"
  },
  "language_info": {
   "codemirror_mode": {
    "name": "ipython",
    "version": 3
   },
   "file_extension": ".py",
   "mimetype": "text/x-python",
   "name": "python",
   "nbconvert_exporter": "python",
   "pygments_lexer": "ipython3",
   "version": "3.12.8"
  }
 },
 "nbformat": 4,
 "nbformat_minor": 4
}
