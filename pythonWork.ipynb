{
 "cells": [
  {
   "cell_type": "code",
   "execution_count": 18,
   "id": "14c0d03e-8ff4-43be-9b31-96b6d5d3c2bc",
   "metadata": {},
   "outputs": [],
   "source": [
    "#first compare the away and home goals and get the higher one or lower one"
   ]
  },
  {
   "cell_type": "code",
   "execution_count": 19,
   "id": "68fc4157-cd22-460a-b0a6-67f1917d9ab8",
   "metadata": {},
   "outputs": [],
   "source": [
    "import pandas as pd "
   ]
  },
  {
   "cell_type": "code",
   "execution_count": 20,
   "id": "ad3c4f6e-84de-45a4-b0e9-32366ffe6a44",
   "metadata": {},
   "outputs": [
    {
     "name": "stdout",
     "output_type": "stream",
     "text": [
      "The average winning team scored about 3.84 goals\n"
     ]
    }
   ],
   "source": [
    "data = pd.read_csv('NHL_Game_data.csv')\n",
    "higherGoal = data[['away_goals','home_goals']].max(axis=1)\n",
    "WinAverageGoal = higherGoal.mean()\n",
    "print(\"The average winning team scored about \" + str(round(averageGoal,2)) + \" goals\")"
   ]
  },
  {
   "cell_type": "code",
   "execution_count": 21,
   "id": "4ff93408-9604-46d3-a56c-1ca72aa3bb6e",
   "metadata": {},
   "outputs": [
    {
     "name": "stdout",
     "output_type": "stream",
     "text": [
      "The average losing team scored about 1.81 goals\n"
     ]
    }
   ],
   "source": [
    "lowerGoal = data[['away_goals','home_goals']].min(axis=1)\n",
    "LoseAverageGoal = lowerGoal.mean()\n",
    "print(\"The average losing team scored about \" + str(round(LoseAverageGoal,2)) + \" goals\")"
   ]
  },
  {
   "cell_type": "code",
   "execution_count": 22,
   "id": "c7a040d4-8000-4fb7-ade0-2c5ec9baa6b7",
   "metadata": {},
   "outputs": [
    {
     "name": "stdout",
     "output_type": "stream",
     "text": [
      "The correlation between the number of goals needed to win and the margin of victory is: 0.63\n"
     ]
    }
   ],
   "source": [
    "# Calculate margin of victory\n",
    "margin_of_victory = data[['home_goals', 'away_goals']].max(axis=1) - data[['home_goals', 'away_goals']].min(axis=1)\n",
    "\n",
    "# Calculate the correlation between winning goals and margin of victory\n",
    "correlation_goals_margin = higherGoal.corr(margin_of_victory)\n",
    "\n",
    "#finds the correlation of goals needed to win\n",
    "print(f\"The correlation between the number of goals needed to win and the margin of victory is: {correlation_goals_margin:.2f}\")\n"
   ]
  },
  {
   "cell_type": "code",
   "execution_count": 23,
   "id": "90d9ddee-519f-4f5e-a3bc-2a4932f90554",
   "metadata": {},
   "outputs": [
    {
     "name": "stdout",
     "output_type": "stream",
     "text": [
      "The correlation between home wins and away wins is: -0.95\n"
     ]
    }
   ],
   "source": [
    "#Shows the correlation between wins at home vs wins away\n",
    "# Create columns for whether the home or away team won\n",
    "data['home_win'] = (data['home_goals'] > data['away_goals']).astype(int)\n",
    "data['away_win'] = (data['away_goals'] > data['home_goals']).astype(int)\n",
    "\n",
    "# Calculate the correlation between home wins and away wins\n",
    "correlation = data['home_win'].corr(data['away_win'])\n",
    "\n",
    "print(f\"The correlation between home wins and away wins is: {correlation:.2f}\")\n"
   ]
  },
  {
   "cell_type": "code",
   "execution_count": 24,
   "id": "0e9c55b9-e07f-4b89-b063-561c248f83f7",
   "metadata": {},
   "outputs": [],
   "source": [
    "#The correlation essentially shows that home wins and away wins are inversely related over time in the dataset, meaning when home teams have a \n",
    "#higher win rate, away teams tend to have a lower win rate, and vice versa. This could indicate a balance between home and away wins over \n",
    "#multiple games."
   ]
  },
  {
   "cell_type": "code",
   "execution_count": 25,
   "id": "28632f20-35fb-4564-8cfe-cbfcb9b5ccf2",
   "metadata": {},
   "outputs": [
    {
     "name": "stdout",
     "output_type": "stream",
     "text": [
      "Home win rate: 0.53\n",
      "Away win rate: 0.44\n"
     ]
    }
   ],
   "source": [
    "# Calculate win rates for home and away teams\n",
    "home_win_rate = data['home_win'].mean()\n",
    "away_win_rate = data['away_win'].mean()\n",
    "\n",
    "print(f\"Home win rate: {home_win_rate:.2f}\")\n",
    "print(f\"Away win rate: {away_win_rate:.2f}\")\n"
   ]
  },
  {
   "cell_type": "code",
   "execution_count": null,
   "id": "b49b52d6-7e7c-4b76-9674-a46c43a906eb",
   "metadata": {},
   "outputs": [],
   "source": [
    "#This shows that the home win rate is just over 50% while the away game win rate is under %50 showing that a home game is more likely."
   ]
  }
 ],
 "metadata": {
  "kernelspec": {
   "display_name": "Python 3 (ipykernel)",
   "language": "python",
   "name": "python3"
  },
  "language_info": {
   "codemirror_mode": {
    "name": "ipython",
    "version": 3
   },
   "file_extension": ".py",
   "mimetype": "text/x-python",
   "name": "python",
   "nbconvert_exporter": "python",
   "pygments_lexer": "ipython3",
   "version": "3.12.7"
  }
 },
 "nbformat": 4,
 "nbformat_minor": 5
}
